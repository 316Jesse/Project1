{
 "cells": [
  {
   "cell_type": "code",
   "execution_count": 14,
   "id": "c48551e1",
   "metadata": {},
   "outputs": [],
   "source": [
    "import pandas as pd\n",
    "from pathlib import Path\n",
    "import os\n",
    "import matplotlib.pyplot as plt"
   ]
  },
  {
   "cell_type": "code",
   "execution_count": 15,
   "id": "73afbf0f",
   "metadata": {},
   "outputs": [],
   "source": [
    "cwd = os.getcwd()\n",
    "\n",
    "# Construct the full file path\n",
    "file_path = os.path.join(cwd, \"USSTHPI.csv\")\n",
    "file_path_2 = os.path.join(cwd, \"FLSTHPI.csv\")\n",
    "# Read the CSV file into a Pandas DataFrame\n",
    "df = pd.read_csv(file_path)\n",
    "df_fl = pd.read_csv(file_path_2)\n",
    "# Display the first 5 rows of the DataFrame\n",
    "print(df.head())\n",
    "print(df_fl.head())\n",
    "\n",
    "# create a concatenated df\n",
    "combined_df = pd.concat([df, df_fl['FLSTHPI']], axis=1)\n",
    "combined_df"
   ]
  },
  {
   "cell_type": "code",
   "execution_count": 16,
   "id": "6a6b951c",
   "metadata": {},
   "outputs": [],
   "source": [
    "# filter the dataframe to 2004-2012\n",
    "combined = combined_df.iloc[116:152, :]\n",
    "combined"
   ]
  },
  {
   "cell_type": "code",
   "execution_count": 17,
   "id": "a8891231",
   "metadata": {},
   "outputs": [],
   "source": [
    "# Select rows 118 to 153 \n",
    "df_subset = df.iloc[116:152, :]\n",
    "df_subset_fl = df_fl.iloc[116:152, :]\n",
    "# Display the first 5 rows of the new DataFrame\n",
    "print(\"US Stats\\n\")\n",
    "print(df_subset)\n",
    "print(\"\\n Florida Stats\\n\")\n",
    "print(df_subset_fl)"
   ]
  },
  {
   "cell_type": "code",
   "execution_count": null,
   "id": "e6f33a96",
   "metadata": {},
   "outputs": [],
   "source": []
  },
  {
   "cell_type": "code",
   "execution_count": 18,
   "id": "7ccaa466",
   "metadata": {},
   "outputs": [],
   "source": [
    "# Rename columns\n",
    "df_subset = df_subset.rename(columns={'USSTHPI': 'Average Price'})\n",
    "df_subset_fl = df_subset.rename(columns={'FLSTHPI': 'Average Price'})\n",
    "combined = combined.rename(columns={'USSTHPI': 'Average Price (US)', 'FLSTHPI': 'Average Price (FL)'})\n",
    "# Display the first 5 rows of the new DataFrame\n",
    "print(df_subset.head())\n",
    "print(\"\\n\")\n",
    "print(df_subset_fl.head())\n",
    "print(\"\\n\")\n",
    "print(combined.head())"
   ]
  },
  {
   "cell_type": "code",
   "execution_count": 19,
   "id": "58b8e5b1",
   "metadata": {},
   "outputs": [],
   "source": [
    "# Create a line plot\n",
    "combined.plot(x='DATE', y='Average Price (US)')\n",
    "\n",
    "# Set the axis and title\n",
    "plt.title('National Average Listings')\n",
    "plt.ylabel('Average House Price (Hundred Thousands)')\n",
    "plt.xlabel('Date')\n",
    "plt.xticks(rotation=75)\n",
    "# save plot\n",
    "plt.savefig('2004-2012_line_national.png')\n",
    "# Show the plot\n",
    "plt.show()"
   ]
  },
  {
   "cell_type": "code",
   "execution_count": null,
   "id": "1f00a6a9",
   "metadata": {},
   "outputs": [],
   "source": []
  },
  {
   "cell_type": "code",
   "execution_count": 20,
   "id": "df80109c",
   "metadata": {},
   "outputs": [],
   "source": [
    "# Create a line plot\n",
    "combined.plot(x='DATE', y='Average Price (FL)', color = 'orange')\n",
    "\n",
    "# labels\n",
    "plt.title('Florida Average Listings')\n",
    "plt.ylabel('Average House Price (Hundred Thousands)')\n",
    "plt.xlabel('Date')\n",
    "plt.xticks(rotation=75)\n",
    "# save plot\n",
    "plt.savefig('2004-2012_line_fl.png')\n",
    "# Show the plot\n",
    "plt.show()"
   ]
  },
  {
   "cell_type": "code",
   "execution_count": null,
   "id": "7d62e6ac",
   "metadata": {},
   "outputs": [],
   "source": []
  },
  {
   "cell_type": "code",
   "execution_count": 21,
   "id": "2c1c1016",
   "metadata": {},
   "outputs": [],
   "source": [
    "# Line graph national + florida\n",
    "combined.plot(x='DATE', y=['Average Price (FL)', 'Average Price (US)'])\n",
    "\n",
    "# labels\n",
    "plt.title('Average Listings')\n",
    "plt.ylabel('Average House Price (Hundred Thousands)')\n",
    "plt.xlabel('Date')\n",
    "plt.xticks(rotation=75)\n",
    "# save plot\n",
    "plt.savefig('2004-2012_line_combined.png')\n",
    "# Show the plot\n",
    "plt.show()"
   ]
  },
  {
   "cell_type": "code",
   "execution_count": null,
   "id": "66c74289",
   "metadata": {},
   "outputs": [],
   "source": []
  },
  {
   "cell_type": "code",
   "execution_count": 22,
   "id": "149e6d46",
   "metadata": {},
   "outputs": [],
   "source": [
    "# Select rows 130 to 141 (recession)\n",
    "combined_subset = combined_df.iloc[130:141, :]\n",
    "combined_subset"
   ]
  },
  {
   "cell_type": "code",
   "execution_count": 23,
   "id": "6973e1da",
   "metadata": {},
   "outputs": [],
   "source": [
    "# rename columns again\n",
    "combined_subset = combined_subset.rename(columns={'USSTHPI': 'Average Price (US)', 'FLSTHPI': 'Average Price (FL)'})"
   ]
  },
  {
   "cell_type": "code",
   "execution_count": 24,
   "id": "fc151cad",
   "metadata": {},
   "outputs": [],
   "source": [
    "# Line graph national + florida\n",
    "combined_subset.plot(x='DATE', y=['Average Price (FL)', 'Average Price (US)'])\n",
    "\n",
    "# labels\n",
    "plt.title('Average Listings (2007-2010)')\n",
    "plt.ylabel('Average House Price (Hundred Thousands)')\n",
    "plt.xlabel('Date')\n",
    "plt.xticks(rotation=75)\n",
    "# save plot\n",
    "plt.savefig('2007-2010_line_combined.png')\n",
    "# Show the plot\n",
    "plt.show()"
   ]
  },
  {
   "cell_type": "code",
   "execution_count": null,
   "id": "4f34250e",
   "metadata": {},
   "outputs": [],
   "source": []
  },
  {
   "cell_type": "code",
   "execution_count": 25,
   "id": "af890088",
   "metadata": {},
   "outputs": [],
   "source": [
    "# Line graph national + florida\n",
    "combined_subset.plot(x='DATE', y='Average Price (FL)', color = 'orange')\n",
    "\n",
    "# labels\n",
    "plt.title('Average Listings FL (2007-2010)')\n",
    "plt.ylabel('Average House Price (Hundred Thousands)')\n",
    "plt.xlabel('Date')\n",
    "plt.xticks(rotation=75)\n",
    "# save plot\n",
    "plt.savefig('2007-2010_line_fl.png')\n",
    "# Show the plot\n",
    "plt.show()"
   ]
  },
  {
   "cell_type": "code",
   "execution_count": null,
   "id": "fc484b0f",
   "metadata": {},
   "outputs": [],
   "source": []
  },
  {
   "cell_type": "code",
   "execution_count": 26,
   "id": "f33cbe4e",
   "metadata": {},
   "outputs": [],
   "source": [
    "# Line graph national + florida\n",
    "combined_subset.plot(x='DATE', y='Average Price (US)')\n",
    "\n",
    "# labels\n",
    "plt.title('Average Listings US (2007-2010)')\n",
    "plt.ylabel('Average House Price (Hundred Thousands)')\n",
    "plt.xlabel('Date')\n",
    "plt.xticks(rotation=75)\n",
    "# save plot\n",
    "plt.savefig('2007-2010_line_US.png')\n",
    "# Show the plot\n",
    "plt.show()"
   ]
  },
  {
   "cell_type": "code",
   "execution_count": null,
   "id": "10d354bd",
   "metadata": {},
   "outputs": [],
   "source": []
  },
  {
   "cell_type": "code",
   "execution_count": null,
   "id": "ce1c96dd",
   "metadata": {},
   "outputs": [],
   "source": []
  },
  {
   "cell_type": "code",
   "execution_count": null,
   "id": "cf8a73db",
   "metadata": {},
   "outputs": [],
   "source": []
  }
 ],
 "metadata": {
  "kernelspec": {
   "display_name": "Python 3 (ipykernel)",
   "language": "python",
   "name": "python3"
  },
  "language_info": {
   "codemirror_mode": {
    "name": "ipython",
    "version": 3
   },
   "file_extension": ".py",
   "mimetype": "text/x-python",
   "name": "python",
   "nbconvert_exporter": "python",
   "pygments_lexer": "ipython3",
   "version": "3.9.13"
  }
 },
 "nbformat": 4,
 "nbformat_minor": 5
}
