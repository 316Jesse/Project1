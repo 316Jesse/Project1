{
 "cells": [
  {
   "cell_type": "code",
   "execution_count": 1,
   "id": "bb18c8d3",
   "metadata": {},
   "outputs": [
    {
     "ename": "ModuleNotFoundError",
     "evalue": "No module named 'fredapi'",
     "output_type": "error",
     "traceback": [
      "\u001b[1;31m---------------------------------------------------------------------------\u001b[0m",
      "\u001b[1;31mModuleNotFoundError\u001b[0m                       Traceback (most recent call last)",
      "\u001b[1;32m~\\AppData\\Local\\Temp\\ipykernel_12668\\933201051.py\u001b[0m in \u001b[0;36m<module>\u001b[1;34m\u001b[0m\n\u001b[1;32m----> 1\u001b[1;33m \u001b[1;32mimport\u001b[0m \u001b[0mfredapi\u001b[0m \u001b[1;32mas\u001b[0m \u001b[0mfa\u001b[0m\u001b[1;33m\u001b[0m\u001b[1;33m\u001b[0m\u001b[0m\n\u001b[0m\u001b[0;32m      2\u001b[0m \u001b[1;32mimport\u001b[0m \u001b[0mpandas\u001b[0m \u001b[1;32mas\u001b[0m \u001b[0mpd\u001b[0m\u001b[1;33m\u001b[0m\u001b[1;33m\u001b[0m\u001b[0m\n\u001b[0;32m      3\u001b[0m \u001b[1;32mfrom\u001b[0m \u001b[0mdatetime\u001b[0m \u001b[1;32mimport\u001b[0m \u001b[0mdatetime\u001b[0m \u001b[1;32mas\u001b[0m \u001b[0mdt\u001b[0m\u001b[1;33m\u001b[0m\u001b[1;33m\u001b[0m\u001b[0m\n\u001b[0;32m      4\u001b[0m \u001b[0mfred\u001b[0m \u001b[1;33m=\u001b[0m \u001b[0mfa\u001b[0m\u001b[1;33m.\u001b[0m\u001b[0mFred\u001b[0m\u001b[1;33m(\u001b[0m\u001b[1;34m'3258cc777cc97a53229e08f54d9846c1'\u001b[0m\u001b[1;33m)\u001b[0m\u001b[1;33m\u001b[0m\u001b[1;33m\u001b[0m\u001b[0m\n",
      "\u001b[1;31mModuleNotFoundError\u001b[0m: No module named 'fredapi'"
     ]
    }
   ],
   "source": [
    "import fredapi as fa\n",
    "import pandas as pd\n",
    "from datetime import datetime as dt\n",
    "fred = fa.Fred('3258cc777cc97a53229e08f54d9846c1')"
   ]
  },
  {
   "cell_type": "code",
   "execution_count": null,
   "id": "6777bc7e",
   "metadata": {},
   "outputs": [],
   "source": [
    "#All-Transactions House Price Index for Florida\n",
    "House_f = fred.get_series('ATNHPIUS36740Q')\n",
    "House_f.name = 'House Price Index Central Florida' \n",
    "House_f"
   ]
  },
  {
   "cell_type": "code",
   "execution_count": null,
   "id": "1bfc7225",
   "metadata": {},
   "outputs": [],
   "source": [
    "#Mean Adjusted Gross Income for Florida\n",
    "Gross_income = fred.get_series('MEANAGIFL12A052NCEN')\n",
    "Gross_income.name = 'Mean Household Income'\n",
    "Gross_income"
   ]
  },
  {
   "cell_type": "code",
   "execution_count": null,
   "id": "f46065ee",
   "metadata": {},
   "outputs": [],
   "source": [
    "Mortgage  = fred.get_series('MORTGAGE30US')\n",
    "Mortgage.name = '30-Year Fixed Rate Mortgage Average'\n",
    "df1 = pd.DataFrame(Mortgage)\n",
    "df1 = df1.reset_index() \n",
    "df1['index'] = df1['index'].dt.year\n",
    "df1"
   ]
  },
  {
   "cell_type": "code",
   "execution_count": null,
   "id": "d14f176b",
   "metadata": {},
   "outputs": [],
   "source": [
    "#merge both series into one dataframe\n",
    "df = pd.merge(House_f, Gross_income, left_index=True, right_index=True)\n",
    "df = df.reset_index()     \n",
    "df['index'] = df['index'].dt.year\n",
    "df"
   ]
  },
  {
   "cell_type": "code",
   "execution_count": null,
   "id": "5b493d44",
   "metadata": {
    "scrolled": true
   },
   "outputs": [],
   "source": [
    "df = pd.merge(df, df1, on='index')\n",
    "df"
   ]
  },
  {
   "cell_type": "code",
   "execution_count": null,
   "id": "f2106d9c",
   "metadata": {},
   "outputs": [],
   "source": [
    "House_index  = fred.get_series('FLSTHPI')\n",
    "House_index.name = 'House Price Index for Florida'\n",
    "df2 = pd.DataFrame(House_index)\n",
    "df2 = df2.reset_index() \n",
    "df2['index'] = df2['index'].dt.year\n",
    "df2"
   ]
  },
  {
   "cell_type": "code",
   "execution_count": null,
   "id": "e4e3a622",
   "metadata": {},
   "outputs": [],
   "source": [
    "df = pd.merge(df, df2, on='index')\n",
    "df\n"
   ]
  },
  {
   "cell_type": "code",
   "execution_count": null,
   "id": "19a769a6",
   "metadata": {},
   "outputs": [],
   "source": [
    "Unemployment   = fred.get_series('FLUR')\n",
    "Unemployment .name = ' Unemployment Rate in Florida'\n",
    "df3 = pd.DataFrame(Unemployment)\n",
    "df3 = df3.reset_index() \n",
    "df3['index'] = df3['index'].dt.year\n",
    "df3"
   ]
  },
  {
   "cell_type": "code",
   "execution_count": null,
   "id": "37e5a48b",
   "metadata": {},
   "outputs": [],
   "source": [
    "df = pd.merge(df, df3, on='index')\n",
    "df"
   ]
  },
  {
   "cell_type": "code",
   "execution_count": null,
   "id": "4a3b95c9",
   "metadata": {},
   "outputs": [],
   "source": [
    "permits  = fred.get_series('FLBP1FHSA')\n",
    "permits.name = 'Private Housing Building Permits'\n",
    "df4 = pd.DataFrame(permits)\n",
    "df4 = df4.reset_index() \n",
    "df4['index'] = df4['index'].dt.year\n",
    "df4"
   ]
  },
  {
   "cell_type": "code",
   "execution_count": null,
   "id": "331c6be4",
   "metadata": {},
   "outputs": [],
   "source": [
    "df = pd.merge(df, df4, on='index')\n",
    "df"
   ]
  },
  {
   "cell_type": "code",
   "execution_count": null,
   "id": "187dabf4",
   "metadata": {},
   "outputs": [],
   "source": [
    "df.drop_duplicates(subset=['index'])"
   ]
  },
  {
   "cell_type": "code",
   "execution_count": null,
   "id": "0752b5de",
   "metadata": {},
   "outputs": [],
   "source": []
  },
  {
   "cell_type": "code",
   "execution_count": null,
   "id": "689c1691",
   "metadata": {},
   "outputs": [],
   "source": []
  }
 ],
 "metadata": {
  "kernelspec": {
   "display_name": "Python 3 (ipykernel)",
   "language": "python",
   "name": "python3"
  },
  "language_info": {
   "codemirror_mode": {
    "name": "ipython",
    "version": 3
   },
   "file_extension": ".py",
   "mimetype": "text/x-python",
   "name": "python",
   "nbconvert_exporter": "python",
   "pygments_lexer": "ipython3",
   "version": "3.9.13"
  }
 },
 "nbformat": 4,
 "nbformat_minor": 5
}
