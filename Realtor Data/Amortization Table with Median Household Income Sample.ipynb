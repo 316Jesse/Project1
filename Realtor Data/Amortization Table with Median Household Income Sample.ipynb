{
 "cells": [
  {
   "cell_type": "code",
   "execution_count": 1,
   "id": "9266732c",
   "metadata": {},
   "outputs": [
    {
     "name": "stderr",
     "output_type": "stream",
     "text": [
      "C:\\Users\\Pablo\\anaconda3\\lib\\site-packages\\pandas\\core\\indexes\\base.py:6999: FutureWarning: In a future version, the Index constructor will not infer numeric dtypes when passed object-dtype sequences (matching Series behavior)\n",
      "  return Index(sequences[0], name=names)\n"
     ]
    },
    {
     "data": {
      "text/html": [
       "<div>\n",
       "<style scoped>\n",
       "    .dataframe tbody tr th:only-of-type {\n",
       "        vertical-align: middle;\n",
       "    }\n",
       "\n",
       "    .dataframe tbody tr th {\n",
       "        vertical-align: top;\n",
       "    }\n",
       "\n",
       "    .dataframe thead th {\n",
       "        text-align: right;\n",
       "    }\n",
       "</style>\n",
       "<table border=\"1\" class=\"dataframe\">\n",
       "  <thead>\n",
       "    <tr style=\"text-align: right;\">\n",
       "      <th></th>\n",
       "      <th>Payment_Amount</th>\n",
       "      <th>Principal_Paid</th>\n",
       "      <th>Interest_Paid</th>\n",
       "      <th>Loan_Balance</th>\n",
       "    </tr>\n",
       "    <tr>\n",
       "      <th>Payment_Number</th>\n",
       "      <th></th>\n",
       "      <th></th>\n",
       "      <th></th>\n",
       "      <th></th>\n",
       "    </tr>\n",
       "  </thead>\n",
       "  <tbody>\n",
       "    <tr>\n",
       "      <th>1</th>\n",
       "      <td>2370.26</td>\n",
       "      <td>339.01</td>\n",
       "      <td>2031.25</td>\n",
       "      <td>374660.99</td>\n",
       "    </tr>\n",
       "  </tbody>\n",
       "</table>\n",
       "</div>"
      ],
      "text/plain": [
       "                Payment_Amount  Principal_Paid  Interest_Paid  Loan_Balance\n",
       "Payment_Number                                                             \n",
       "1                      2370.26          339.01        2031.25     374660.99"
      ]
     },
     "execution_count": 1,
     "metadata": {},
     "output_type": "execute_result"
    }
   ],
   "source": [
    "import pandas as pd\n",
    "\n",
    "home_price = 450000\n",
    "downpayment = .20\n",
    "closing_costs = 15000\n",
    "\n",
    "loan = home_price - (home_price * downpayment) + closing_costs\n",
    "\n",
    "# variables\n",
    "loan_amount = loan\n",
    "interest_rate = 0.065 #current interest rate\n",
    "loan_term = 360 # in months\n",
    "\n",
    "# Calculate monthly payment\n",
    "monthly_rate = interest_rate / 12\n",
    "monthly_payment = (loan_amount * monthly_rate) / (1 - (1 + monthly_rate) ** (-loan_term))\n",
    "\n",
    "# Create empty DataFrame\n",
    "amortization_table = pd.DataFrame(columns=['Payment_Number', 'Payment_Amount', 'Principal_Paid', 'Interest_Paid', 'Loan_Balance'])\n",
    "\n",
    "# Amortization for loop\n",
    "loan_balance = loan_amount\n",
    "for payment_number in range(1, loan_term + 1):\n",
    "    interest_paid = loan_balance * monthly_rate\n",
    "    principal_paid = monthly_payment - interest_paid\n",
    "    loan_balance -= principal_paid\n",
    "    \n",
    "    new_row = {'Payment_Number': payment_number,\n",
    "               'Payment_Amount': monthly_payment,\n",
    "               'Principal_Paid': principal_paid,\n",
    "               'Interest_Paid': interest_paid,\n",
    "               'Loan_Balance': loan_balance}\n",
    "    amortization_table = pd.concat([amortization_table, pd.DataFrame(new_row, index=[0])], ignore_index=True)\n",
    "\n",
    "amortization_table.set_index('Payment_Number', inplace=True)\n",
    "amortization_table = amortization_table.round(2)\n",
    "\n",
    "amortization_table.head(1)\n"
   ]
  },
  {
   "cell_type": "code",
   "execution_count": 2,
   "id": "122fc1ea",
   "metadata": {},
   "outputs": [],
   "source": [
    "payment = amortization_table.iloc[0, 0]"
   ]
  },
  {
   "cell_type": "code",
   "execution_count": 3,
   "id": "d3db8bd4",
   "metadata": {},
   "outputs": [
    {
     "data": {
      "text/plain": [
       "48000.0"
      ]
     },
     "execution_count": 3,
     "metadata": {},
     "output_type": "execute_result"
    }
   ],
   "source": [
    "# Current Median Household Income\n",
    "annual_median_income = 60000\n",
    "\n",
    "#Assuming 20% in deductions for health insurance and taxes\n",
    "household_net_income = annual_median_income * .80\n",
    "household_net_income"
   ]
  },
  {
   "cell_type": "code",
   "execution_count": 4,
   "id": "bee2b4b7",
   "metadata": {},
   "outputs": [
    {
     "data": {
      "text/plain": [
       "541.6666666666666"
      ]
     },
     "execution_count": 4,
     "metadata": {},
     "output_type": "execute_result"
    }
   ],
   "source": [
    "#Estimates of an escrow account\n",
    "\n",
    "home_insurance = 3000\n",
    "property_taxes = 2600\n",
    "hoa = (75*12)\n",
    "\n",
    "monthly_escrow = (home_insurance + property_taxes + hoa)/12\n",
    "monthly_escrow"
   ]
  },
  {
   "cell_type": "code",
   "execution_count": 5,
   "id": "9b9d618f",
   "metadata": {},
   "outputs": [
    {
     "data": {
      "text/plain": [
       "2911.93"
      ]
     },
     "execution_count": 5,
     "metadata": {},
     "output_type": "execute_result"
    }
   ],
   "source": [
    "monthly_mortgage = payment + monthly_escrow\n",
    "monthly_mortgage.round(2)"
   ]
  },
  {
   "cell_type": "code",
   "execution_count": 6,
   "id": "57c73493",
   "metadata": {},
   "outputs": [
    {
     "data": {
      "text/plain": [
       "72.8"
      ]
     },
     "execution_count": 6,
     "metadata": {},
     "output_type": "execute_result"
    }
   ],
   "source": [
    "mortage_percent_of_income = 100 * (monthly_mortgage / (household_net_income/12))\n",
    "mortage_percent_of_income.round(2)"
   ]
  },
  {
   "cell_type": "code",
   "execution_count": 7,
   "id": "fda3d163",
   "metadata": {},
   "outputs": [
    {
     "name": "stdout",
     "output_type": "stream",
     "text": [
      "The ideal household net income needed to cover the cost of a home where the payment is 2911.93 its 9706.42,\n",
      "which accoding to economits its 30%.\n"
     ]
    }
   ],
   "source": [
    "ideal_income = (monthly_mortgage/(1-.7)).round(2)\n",
    "print(f'The ideal household net income needed to cover the cost of a home where the payment is {monthly_mortgage.round(2)} its {ideal_income},\\nwhich accoding to economits its 30%.')"
   ]
  }
 ],
 "metadata": {
  "kernelspec": {
   "display_name": "Python 3 (ipykernel)",
   "language": "python",
   "name": "python3"
  },
  "language_info": {
   "codemirror_mode": {
    "name": "ipython",
    "version": 3
   },
   "file_extension": ".py",
   "mimetype": "text/x-python",
   "name": "python",
   "nbconvert_exporter": "python",
   "pygments_lexer": "ipython3",
   "version": "3.9.13"
  }
 },
 "nbformat": 4,
 "nbformat_minor": 5
}
